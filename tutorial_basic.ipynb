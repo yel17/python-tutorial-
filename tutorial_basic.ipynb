{
 "cells": [
  {
   "cell_type": "code",
   "execution_count": 8,
   "metadata": {
    "collapsed": true
   },
   "outputs": [
    {
     "name": "stdout",
     "output_type": "stream",
     "text": [
      "4\n",
      "Hello liam!\n",
      "Hello zhuzhu!\n",
      "I'm gonna kiss u\n",
      "I'm gonna kiss u too\n",
      "Applepen\n",
      "12\n",
      "3\n",
      "6.66\n"
     ]
    }
   ],
   "source": [
    "# Python基础2：print\n",
    "# Created by Liam on 2018-10-28 \n",
    "print(4)\n",
    "print('Hello liam!')\n",
    "print(\"Hello zhuzhu!\")\n",
    "print(\"I'm gonna kiss u\")\n",
    "print('I\\'m gonna kiss u too')\n",
    "print('Apple'+'pen')\n",
    "print('1'+'2')\n",
    "print(int('1')+2)\n",
    "print(float('5.66')+1)"
   ]
  },
  {
   "cell_type": "code",
   "execution_count": 14,
   "metadata": {
    "collapsed": true
   },
   "outputs": [
    {
     "name": "stdout",
     "output_type": "stream",
     "text": [
      "2\n",
      "1\n",
      "6\n",
      "1.5\n",
      "9\n",
      "1\n",
      "4\n"
     ]
    }
   ],
   "source": [
    "# Python基础3：数学运算\n",
    "# Created by Liam on 2018-10-28\n",
    "a1 = 1+1  # 加\n",
    "a2 = 2-1  # 减\n",
    "a3 = 3*2  # 乘\n",
    "a4 = 3/2  # 除\n",
    "a5 = 3**2 # 平方\n",
    "a6 = 9%2  # 取余\n",
    "a7 = 9//2 # 取整\n",
    "print(a1)\n",
    "print(a2)\n",
    "print(a3)\n",
    "print(a4)\n",
    "print(a5)\n",
    "print(a6)\n",
    "print(a7)"
   ]
  },
  {
   "cell_type": "code",
   "execution_count": 2,
   "metadata": {
    "collapsed": true
   },
   "outputs": [
    {
     "name": "stdout",
     "output_type": "stream",
     "text": [
      "1\n",
      "13\n",
      "1 2 3\n"
     ]
    }
   ],
   "source": [
    "# Python基础4：自变量\n",
    "# Created by Liam on 2018-10-29\n",
    "apple_pie = 1\n",
    "pineapple_pie = apple_pie + 12\n",
    "a,b,c = 1,2,3 # 同时对多个自变量进行赋值\n",
    "print(apple_pie)\n",
    "print(pineapple_pie)\n",
    "print(a,b,c)"
   ]
  },
  {
   "cell_type": "code",
   "execution_count": 6,
   "metadata": {
    "collapsed": true
   },
   "outputs": [
    {
     "name": "stdout",
     "output_type": "stream",
     "text": [
      "1\n",
      "2\n",
      "3\n",
      "4\n",
      "5\n",
      "6\n",
      "7\n",
      "8\n",
      "9\n",
      "20\n"
     ]
    }
   ],
   "source": [
    "# Python基础5：while循环\n",
    "# Created by Liam on 2018-10-29\n",
    "condition = 1\n",
    "while condition < 10:  \n",
    "    print(condition)\n",
    "    condition += 1\n",
    "condition += 10\n",
    "print(condition)"
   ]
  },
  {
   "cell_type": "code",
   "execution_count": 6,
   "metadata": {
    "collapsed": true
   },
   "outputs": [
    {
     "name": "stdout",
     "output_type": "stream",
     "text": [
      "1\n",
      "3\n",
      "6\n",
      "10\n",
      "15\n",
      "21\n",
      "28\n",
      "36\n",
      "45\n",
      "55\n",
      "end i\n",
      "1\n",
      "2\n",
      "3\n",
      "4\n",
      "5\n",
      "6\n",
      "7\n",
      "8\n",
      "9\n",
      "end t\n",
      "1\n",
      "3\n",
      "5\n",
      "7\n",
      "9\n",
      "end c\n"
     ]
    }
   ],
   "source": [
    "# Python基础6：for循环\n",
    "# Created by Liam on 2018-10-30\n",
    "example_list = [1,2,3,4,5,6,7,8,9,10]\n",
    "a = 0\n",
    "for i in example_list:\n",
    "    a = a + i\n",
    "    print(a)\n",
    "print('end i')\n",
    "\n",
    "for t in range(1,10):      # for i in range(start, stop)  \n",
    "    print(t)\n",
    "print('end t')\n",
    "\n",
    "for c in range(1,10,2):    # for i in range(start, stop, step)\n",
    "    print(c)\n",
    "print('end c')    "
   ]
  },
  {
   "cell_type": "code",
   "execution_count": 11,
   "metadata": {
    "collapsed": true
   },
   "outputs": [
    {
     "name": "stdout",
     "output_type": "stream",
     "text": [
      "a < b < c is true\n",
      "e is the biggest number!\n"
     ]
    }
   ],
   "source": [
    "# Python基础7：if 条件\n",
    "# Created by Liam on 2018-10-30\n",
    "a = 1\n",
    "b = 2\n",
    "c = 3\n",
    "if a < b < c:              # 常见条件判断：<  >  =  <=  >=  ==  !=\n",
    "    print(\"a < b < c is true\")\n",
    "    \n",
    "d = 4\n",
    "e = 5\n",
    "f = 0\n",
    "if d < e > f:\n",
    "    print(\"e is the biggest number!\")"
   ]
  },
  {
   "cell_type": "code",
   "execution_count": 12,
   "metadata": {
    "collapsed": true
   },
   "outputs": [
    {
     "name": "stdout",
     "output_type": "stream",
     "text": [
      "a isn't greater than b!\n"
     ]
    }
   ],
   "source": [
    "# Python基础8：if else条件\n",
    "# Created by Liam on 2018-10-30\n",
    "a = 1\n",
    "b = 2\n",
    "if a > b:\n",
    "    print('a is greater than b!')\n",
    "else:\n",
    "    print('a isn\\'t greater than b!')"
   ]
  },
  {
   "cell_type": "code",
   "execution_count": 7,
   "metadata": {
    "collapsed": true
   },
   "outputs": [
    {
     "name": "stdout",
     "output_type": "stream",
     "text": [
      "excellent!\n"
     ]
    }
   ],
   "source": [
    "# Python基础9：if elif else条件\n",
    "# Created by Liam on 2018-10-31\n",
    "grade = 100\n",
    "if (grade < 60):\n",
    "    print('unpass')\n",
    "elif(grade < 80):\n",
    "    print('fine')\n",
    "elif(grade < 90):\n",
    "    print('good')\n",
    "else:\n",
    "    print('excellent!')"
   ]
  },
  {
   "cell_type": "code",
   "execution_count": 9,
   "metadata": {
    "collapsed": true
   },
   "outputs": [
    {
     "name": "stdout",
     "output_type": "stream",
     "text": [
      "This is a test function\n",
      "This is a test function\n"
     ]
    }
   ],
   "source": [
    "# Python基础10：函数 def\n",
    "# Created by Liam on 2018-10-31\n",
    "def function():\n",
    "    print('This is a test function')\n",
    "\n",
    "function()\n",
    "function()"
   ]
  },
  {
   "cell_type": "code",
   "execution_count": 13,
   "metadata": {
    "collapsed": true
   },
   "outputs": [
    {
     "name": "stdout",
     "output_type": "stream",
     "text": [
      "89 is good\n",
      "10 is unpass\n",
      "99 is excellent!\n"
     ]
    }
   ],
   "source": [
    "# Python基础11：函数 参数 \n",
    "# Created by Liam on 2018-10-31\n",
    "def bulletin(grade):\n",
    "    if (grade < 60):\n",
    "        print(grade, 'is unpass')\n",
    "    elif(grade < 80):\n",
    "        print(grade, 'is fine')\n",
    "    elif(grade < 90):\n",
    "        print(grade, 'is good')\n",
    "    else:\n",
    "        print(grade, 'is excellent!')\n",
    "        \n",
    "bulletin(89)\n",
    "bulletin(10)\n",
    "bulletin(99)"
   ]
  },
  {
   "cell_type": "code",
   "execution_count": 3,
   "metadata": {
    "collapsed": true
   },
   "outputs": [
    {
     "name": "stdout",
     "output_type": "stream",
     "text": [
      "ID is 2017211061\n",
      "name is Liam_Ye\n",
      "class_id is WS172\n",
      "grade is 17\n",
      "ID is 2017211062\n",
      "name is Xuemei_Tian\n",
      "class_id is WS171\n",
      "grade is 17\n"
     ]
    }
   ],
   "source": [
    "# Python基础12：函数 默认参数 \n",
    "# Created by Liam on 2018-11-01\n",
    "def student(ID, name, class_id = 'WS172', grade = '17'): # 在def函数时赋予参数默认值\n",
    "    print('ID is', ID)\n",
    "    print('name is', name)\n",
    "    print('class_id is', class_id)\n",
    "    print('grade is', grade)\n",
    "\n",
    "student('2017211061','Liam_Ye')\n",
    "student('2017211062','Xuemei_Tian', class_id = 'WS171')  # 在调用函数时可以对参数默认值进行修改"
   ]
  },
  {
   "cell_type": "code",
   "execution_count": 16,
   "metadata": {
    "collapsed": true
   },
   "outputs": [
    {
     "name": "stdout",
     "output_type": "stream",
     "text": [
      "The price of COKE is 5\n",
      "The price of APPLE is 10\n",
      "The price of butter is 15\n"
     ]
    }
   ],
   "source": [
    "# Python基础13：全局 & 局部变量\n",
    "# Created by Liam on 2018-11-01\n",
    "APPLE = 10                                               # 全局变量大写\n",
    "COKE = 5 \n",
    "def price():\n",
    "    butter = 15                                          \n",
    "    print('The price of COKE is',COKE)\n",
    "    print('The price of APPLE is',APPLE)\n",
    "    print('The price of butter is',butter)               # 局部变量小写\n",
    "\n",
    "price()"
   ]
  },
  {
   "cell_type": "code",
   "execution_count": 17,
   "metadata": {},
   "outputs": [],
   "source": [
    "# Python基础14：模块安装\n",
    "# Created by Liam on 2018-11-01\n",
    "# pip3 install numpy                                     # python3+ 版本安装模块\n",
    "# pip3 unistall numpy                                    # python3+ 版本卸载模块\n",
    "# pip3 install -U numpy                                  # python3+ 版本升级模块，-U 表示 upgrade"
   ]
  },
  {
   "cell_type": "code",
   "execution_count": 3,
   "metadata": {
    "collapsed": true
   },
   "outputs": [
    {
     "name": "stdout",
     "output_type": "stream",
     "text": [
      "First line\n",
      "Second line\n",
      "Third line\n",
      "\tLook at the tab dude\n"
     ]
    }
   ],
   "source": [
    "# Python基础15：文件读写1\n",
    "# Created by Liam on 2018-11-02\n",
    "text = ('First line\\nSecond line\\nThird line')           # 换行命令\\n\n",
    "print(text)\n",
    "message = ('\\tLook at the tab dude')\n",
    "print(message)                                           # 对齐使用\\t\n",
    "\n",
    "python_file = open('python_file.txt','w')\n",
    "python_file.write(text)\n",
    "python_file.close()"
   ]
  },
  {
   "cell_type": "code",
   "execution_count": 4,
   "metadata": {},
   "outputs": [],
   "source": [
    "# Python基础16：文件读写2\n",
    "# Created by Liam on 2018-11-02\n",
    "append_text = '\\nThis is appended file.'                  # 为这行文字提前空行 \"\\n\"\n",
    "python_file = open('python_file.txt','a')                 # 'a'=append 以增加内容的形式打开\n",
    "python_file.write(append_text)\n",
    "python_file.close()"
   ]
  },
  {
   "cell_type": "code",
   "execution_count": 11,
   "metadata": {
    "collapsed": true
   },
   "outputs": [
    {
     "name": "stdout",
     "output_type": "stream",
     "text": [
      "First line\n",
      "Second line\n",
      "Third line\n",
      "This is appended file.\n",
      "\n",
      "\n",
      "First line\n",
      "\n",
      "\n",
      "\n",
      "['First line\\n', 'Second line\\n', 'Third line\\n', 'This is appended file.']\n"
     ]
    }
   ],
   "source": [
    "# Python基础17：文件读写3\n",
    "# Created by Liam on 2018-11-02\n",
    "python_file = open('python_file.txt','r') \n",
    "content_1 = python_file.read()\n",
    "print(content_1)\n",
    "print('\\n')\n",
    "\n",
    "python_file = open('python_file.txt','r') \n",
    "content_2 = python_file.readline()                        # 读取 python_file 第一行\n",
    "print(content_2)\n",
    "print('\\n')\n",
    "\n",
    "python_file = open('python_file.txt','r')\n",
    "content_3 = python_file.readlines()                       # 读取 python_file 所有行, python_list 形式\n",
    "print(content_3)"
   ]
  },
  {
   "cell_type": "code",
   "execution_count": 5,
   "metadata": {
    "collapsed": true
   },
   "outputs": [
    {
     "name": "stdout",
     "output_type": "stream",
     "text": [
      "Cacul's result is\n",
      "12\n",
      "Cacul's result is\n",
      "-2\n",
      "Cacul's result is\n",
      "35\n"
     ]
    }
   ],
   "source": [
    "# Python基础18：Class 类\n",
    "# Created by Liam on 2018-11-05\n",
    "class Caculator():                                        # class类的命名习惯首字母大写，将 class 类命名为 Caculator\n",
    "    name = 'Caculator'                                    # name, result, price 都是 Caculator 的属性（固有属性）\n",
    "    result = 'Cacul\\'s result is'\n",
    "    price = 25\n",
    "    def addition(self, x, y):                             # addition，subtraction，multiplication，division 都是 Caculator 的函数\n",
    "        print(self.result)                                # self 不可缺少\n",
    "        print(x + y)\n",
    "    def subtraction(self, x, y):\n",
    "        print(self.result)\n",
    "        print(x - y)\n",
    "    def multiplication(self, x, y):\n",
    "        print(self.result)\n",
    "        print(x * y)\n",
    "    def division(self, x, y):\n",
    "        print(self.result)\n",
    "        print(x / y)\n",
    "\n",
    "cacul = Caculator()\n",
    "cacul.addition(5,7)\n",
    "cacul.subtraction(5,7)\n",
    "cacul.multiplication(5,7)"
   ]
  },
  {
   "cell_type": "code",
   "execution_count": 10,
   "metadata": {
    "collapsed": true
   },
   "outputs": [
    {
     "name": "stdout",
     "output_type": "stream",
     "text": [
      "Liams Caculator\n",
      "25\n",
      "0.1\n",
      "100\n",
      "Cacul's result is\n",
      "11\n"
     ]
    }
   ],
   "source": [
    "# Python基础19：类 init 功能\n",
    "# Created by Liam on 2018-11-05\n",
    "class Caculator():                                        \n",
    "    name = 'Caculator'                                    # name, result, price 都是 Caculator 的属性（固有属性）\n",
    "    result = 'Cacul\\'s result is'\n",
    "    price = 25\n",
    "    def __init__(self, name, price, discount, number):    # name, price, discount, number 都是 Caculator 的 initial 属性（初始属性）\n",
    "        self.na = name                                    # initial 属性（初始属性）可通过手动输入的方式改变\n",
    "        self.pr = price\n",
    "        self.ds = discount\n",
    "        self.nm = number\n",
    "    def addition(self, x, y):                             \n",
    "        print(self.result)                                \n",
    "        print(x + y)\n",
    "    def subtraction(self, x, y):\n",
    "        print(self.result)\n",
    "        print(x - y)\n",
    "    def multiplication(self, x, y):\n",
    "        print(self.result)\n",
    "        print(x * y)\n",
    "    def division(self, x, y):\n",
    "        print(self.result)\n",
    "        print(x / y)\n",
    "        \n",
    "ca = Caculator('Liams Caculator',25, 0.1, 100)\n",
    "print(ca.na)\n",
    "print(ca.pr)\n",
    "print(ca.ds)\n",
    "print(ca.nm)\n",
    "ca.addition(3,8)"
   ]
  },
  {
   "cell_type": "code",
   "execution_count": 14,
   "metadata": {
    "collapsed": true
   },
   "outputs": [
    {
     "name": "stdout",
     "output_type": "stream",
     "text": [
      "Please input ur number:0\n",
      "Close the door\n"
     ]
    }
   ],
   "source": [
    "# Python基础20：input\n",
    "# Created by Liam on 2018-11-05\n",
    "a_input = int(input('Please input ur number:'))             # 由于输入的是字符串，所以要用 int() 函数转化为整数\n",
    "if a_input == 1:\n",
    "    print('Open the door')\n",
    "elif a_input == 0:\n",
    "    print('Close the door')\n",
    "else:\n",
    "    print('Wrong instruction')                              # input 为用户和计算机提供了一个交互界面"
   ]
  },
  {
   "cell_type": "code",
   "execution_count": 4,
   "metadata": {
    "collapsed": true
   },
   "outputs": [
    {
     "name": "stdout",
     "output_type": "stream",
     "text": [
      "1\n",
      "2\n",
      "3\n",
      "4\n",
      "5\n",
      "6\n",
      "11\n",
      "12\n",
      "13\n",
      "14\n",
      "15\n",
      "index = 0 ,the number in list is 11\n",
      "5\n",
      "index = 1 ,the number in list is 12\n",
      "5\n",
      "index = 2 ,the number in list is 13\n",
      "5\n",
      "index = 3 ,the number in list is 14\n",
      "5\n",
      "index = 4 ,the number in list is 15\n",
      "5\n"
     ]
    }
   ],
   "source": [
    "# Python基础21：元组 & 列表\n",
    "# Created by Liam on 2018-11-06\n",
    "tuple_a = (1,2,3,4,5,6)                                     # 元组(数组)叫做 tuple，用小括号、或者无括号来表述，是一连串有顺序的数字。\n",
    "tuple_b = 7,8,9,10\n",
    "\n",
    "list_a = [11,12,13,14,15]                                   # 列表叫做 list，以中括号来命名\n",
    "for i in tuple_a:\n",
    "    print(i)\n",
    "    \n",
    "for j in list_a:\n",
    "    print(j)\n",
    "    \n",
    "for index in range(len(list_a)):                            # len 表示 length，这里为 5，表示有5个元素\n",
    "    print('index =', index, ',the number in list is', list_a[index])\n",
    "    print(len(list_a))"
   ]
  },
  {
   "cell_type": "code",
   "execution_count": 18,
   "metadata": {
    "collapsed": true
   },
   "outputs": [
    {
     "name": "stdout",
     "output_type": "stream",
     "text": [
      "a_append = [5, 6, 12, 3, 55, 7, 0]\n",
      "a_insert = [5, 6, 666, 12, 3, 55, 7, 0]\n",
      "a_remove = [5, 666, 12, 3, 55, 7, 0]\n",
      "b[0] = 1\n",
      "b[1] = 3\n",
      "b[-1] = 8\n",
      "b[0:3] = [1, 3, 4]\n",
      "b[2:] = [4, 77, 8]\n",
      "b[-2:] = [77, 8]\n",
      "1\n",
      "3\n",
      "c.sort = [3, 3, 3, 4, 5, 5, 66]\n",
      "c.sort_reverse = [66, 5, 5, 4, 3, 3, 3]\n"
     ]
    }
   ],
   "source": [
    "# Python基础22：列表\n",
    "# Created by Liam on 2018-11-06\n",
    "a = [5,6,12,3,55,7]\n",
    "a.append(0)                                                 # list 末尾添加\n",
    "print('a_append =', a)\n",
    "a.insert(2, 666)\n",
    "print('a_insert =', a)                                      # list 中间插入\n",
    "a.remove(6)\n",
    "print('a_remove =', a)                                      # list 去除第一个值为 6 的元素\n",
    "\n",
    "b = [1,3,4,77,8]\n",
    "print('b[0] =', b[0])\n",
    "print('b[1] =', b[1])\n",
    "print('b[-1] =', b[-1])                                     # list 检索最后一位\n",
    "print('b[0:3] =', b[0:3])                                   # 显示列表 b 的从第0位 到 第2位(第3位之前) 的所有项的值\n",
    "print('b[2:] =', b[2:])                                     # 显示列表 b 的从第2位 到 最后一位 的所有项的值\n",
    "print('b[-2:] =', b[-2:])                                   # 显示列表 b 的从倒数第2位 到 最后一位 的所有项的值\n",
    "\n",
    "c = [3,4,5,3,3,5,66]\n",
    "print(c.index(4))                                           # 显示列表 c 中第一次出现的值为 4 的项的索引\n",
    "print(c.count(3))                                           # 统计列表中某值出现的次数\n",
    "c.sort()\n",
    "print('c.sort =',c)                                         # 列表排序（从小到大），注意排序后原有列表会被覆盖\n",
    "c.sort(reverse = 1)\n",
    "print('c.sort_reverse =',c)                                 # 列表排序（从大到小），注意排序后原有列表会被覆盖"
   ]
  },
  {
   "cell_type": "code",
   "execution_count": 2,
   "metadata": {
    "collapsed": true
   },
   "outputs": [
    {
     "name": "stdout",
     "output_type": "stream",
     "text": [
      "2\n",
      "3\n"
     ]
    }
   ],
   "source": [
    "# Python基础23：多维列表\n",
    "# Created by Liam on 2018-11-07\n",
    "a1 = [1,2,3,4,5]                                           # a1是一个一维列表\n",
    "a2 = [\n",
    "        [1,2,3],\n",
    "        [4,5,6],\n",
    "        [7,8,9]\n",
    "     ]                                                     # a2是一个多维列表\n",
    "print(a1[1])                                               # 一维列表检索方式\n",
    "print(a2[0][2])                                            # 多维列表检索方式"
   ]
  },
  {
   "cell_type": "code",
   "execution_count": 7,
   "metadata": {
    "collapsed": true
   },
   "outputs": [
    {
     "name": "stdout",
     "output_type": "stream",
     "text": [
      "{'apple_price': 10, 'cake_price': 8, 'purewater_price': 3}\n",
      "The price of apple is 10\n",
      "The first guy is Franklin Clinton\n",
      "{'apple_price': 10, 'purewater_price': 3}\n",
      "{'apple_price': 10, 'purewater_price': 3, 'orange_price': 5}\n"
     ]
    }
   ],
   "source": [
    "# Python基础24：dictionart 字典\n",
    "# Created by Liam on 2018-11-07\n",
    "# List是有顺序地输出输入，而字典的存档形式则是无需顺序的\n",
    "d1 = {'apple_price':10, 'cake_price':8, 'purewater_price': 3}\n",
    "d2 = {1:'Franklin Clinton', 2:'Michael De Santa', 3:'Trevor Philips'}\n",
    "# 在字典中，有key和 value两种元素，每一个key对应一个value, key是名字, value是内容。数字和字符串都可以当做key或者value \n",
    "d3 = {'a':1, 2:'GTA5'}\n",
    "# 在同一个字典中, 并不需要所有的key或value有相同的形式。\n",
    "\n",
    "print(d1)                                                  # 字典检索\n",
    "print('The price of apple is', d1['apple_price'])          \n",
    "print('The first guy is', d2[1])\n",
    "\n",
    "del d1['cake_price']                                       # 删除字典中的元素\n",
    "print(d1)\n",
    "\n",
    "d1['orange_price'] = 5                                     # 向字典中添加元素\n",
    "print(d1)\n",
    "\n",
    "# 在字典中，value 元素的类型也可以是字典，相当于字典的嵌套使用"
   ]
  },
  {
   "cell_type": "code",
   "execution_count": 5,
   "metadata": {
    "collapsed": true
   },
   "outputs": [
    {
     "name": "stdout",
     "output_type": "stream",
     "text": [
      "time.struct_time(tm_year=2018, tm_mon=11, tm_mday=8, tm_hour=14, tm_min=13, tm_sec=5, tm_wday=3, tm_yday=312, tm_isdst=0)\n",
      "time.struct_time(tm_year=2018, tm_mon=11, tm_mday=8, tm_hour=14, tm_min=13, tm_sec=5, tm_wday=3, tm_yday=312, tm_isdst=0)\n",
      "time.struct_time(tm_year=2018, tm_mon=11, tm_mday=8, tm_hour=14, tm_min=13, tm_sec=5, tm_wday=3, tm_yday=312, tm_isdst=0)\n",
      "time.struct_time(tm_year=2018, tm_mon=11, tm_mday=8, tm_hour=14, tm_min=13, tm_sec=5, tm_wday=3, tm_yday=312, tm_isdst=0)\n"
     ]
    }
   ],
   "source": [
    "# Python基础25：import 模块\n",
    "# Created by Liam on 2018-11-08\n",
    "import time                                                # import 方式1：直接输入\n",
    "print(time.localtime())\n",
    "\n",
    "import time as t                                           # import 方式2： 模块名简写（推荐使用）\n",
    "print(t.localtime())\n",
    "\n",
    "from time import localtime                                 # import 方式3： 仅调用模块中的部分功能（此时无需声明模块名）\n",
    "print(localtime())                                         \n",
    "\n",
    "from time import *                                         # import 方式4： 调用模块中的所有功能（此时无需声明模块名）\n",
    "print(localtime())                                        "
   ]
  },
  {
   "cell_type": "code",
   "execution_count": 6,
   "metadata": {},
   "outputs": [],
   "source": [
    "# Python基础26：import 自己的模块\n",
    "# Created by Liam on 2018-11-08\n",
    "# import python_file as pf                                   # import 自己的模块，该模块为与当前 .py 文件同路径下的 .py 文件\n",
    "# python_file.function(function_parameter)                   # import 自己的模块后可以使用该模块的任意函数"
   ]
  },
  {
   "cell_type": "code",
   "execution_count": 1,
   "metadata": {
    "collapsed": true
   },
   "outputs": [
    {
     "name": "stdout",
     "output_type": "stream",
     "text": [
      "Type ur number2\n",
      "ur still in the while!\n",
      "Type ur number1\n",
      "ur out of the while!\n"
     ]
    }
   ],
   "source": [
    "# Python基础27：循环中的 continue & break\n",
    "# Created by Liam on 2018-11-08\n",
    "while 1:\n",
    "    a = input('Type ur number')\n",
    "    if a == '1':\n",
    "        break                                               # break 用于跳出当前的循环；continue 用于跳出本次循环\n",
    "    else:\n",
    "        pass\n",
    "        print('ur still in the while!')\n",
    "\n",
    "print('ur out of the while!')"
   ]
  },
  {
   "cell_type": "code",
   "execution_count": 6,
   "metadata": {
    "collapsed": true
   },
   "outputs": [
    {
     "name": "stdout",
     "output_type": "stream",
     "text": [
      "[Errno 2] No such file or directory: 'eeee.txt'\n",
      "It's done!\n"
     ]
    }
   ],
   "source": [
    "# Python基础28：try 错误处理\n",
    "# Created by Liam on 2018-11-09\n",
    "try:\n",
    "    file = open('eeee.txt','r')\n",
    "except Exception as e:                                     \n",
    "    print(e)\n",
    "finally:\n",
    "    print('It\\'s done!')\n",
    "# 每一个try，都必须至少有一个except\n",
    "# 当我们认为某些代码可能会出错时，就可以用try来运行这段代码，如果执行出错，则后续代码不会继续执行，而是直接跳转至错误处理代码，即except语句块\n",
    "# 执行完except后，如果有finally语句块，则执行finally语句块，至此，执行完毕。"
   ]
  },
  {
   "cell_type": "code",
   "execution_count": 24,
   "metadata": {
    "collapsed": true
   },
   "outputs": [
    {
     "name": "stdout",
     "output_type": "stream",
     "text": [
      "[(1, 4), (2, 5), (3, 6)]\n",
      "2 6\n",
      "3 7\n",
      "4 8\n",
      "[(1, 1, 4, 4), (2, 2, 5, 5), (3, 3, 6, 6)]\n",
      "x=1\n",
      "y=2\n",
      "z=3\n",
      "6\n",
      "[22]\n",
      "[14]\n",
      "[14, 104]\n"
     ]
    }
   ],
   "source": [
    "# Python基础29：zip lambda map\n",
    "# Created by Liam on 2018-11-09\n",
    "# 29_1: zip\n",
    "# zip函数接受任意多个（包括0个和1个）序列作为参数，合并后返回一个 tuple 列表\n",
    "a = [1,2,3]\n",
    "b = [4,5,6]\n",
    "zip(a,b)\n",
    "print(list(zip(a,b)))                                            # 需要加 list 来可视化 zip 功能\n",
    "for i,j in zip(a,b):\n",
    "    print(i + 1, j + 2 )\n",
    "\n",
    "print(list(zip(a,a,b,b)))\n",
    "# 29_2: lambda\n",
    "# lambda 定义一个简单的函数，实现简化代码的功能，看代码会更好理解。\n",
    "func = lambda x,y,z: x + y + z\n",
    "x = int(input('x='))                                              # 这里要定义int整数，否则会默认为字符串\n",
    "y = int(input('y='))\n",
    "z = int(input('z='))\n",
    "print(func(x,y,z))\n",
    "\n",
    "# 29_3: map\n",
    "# map 把函数和参数绑定在一起\n",
    "c = map(func,[7],[6],[9])\n",
    "print(list(c))\n",
    "print(list(map(func,[3],[4],[7]))) \n",
    "print(list(map(func,[3,5],[4,9],[7,90]))) "
   ]
  },
  {
   "cell_type": "code",
   "execution_count": 6,
   "metadata": {
    "collapsed": true
   },
   "outputs": [
    {
     "name": "stdout",
     "output_type": "stream",
     "text": [
      "2125333321544\n",
      "2125333321544\n",
      "[1, 33, 3]\n",
      "2125333126920\n"
     ]
    },
    {
     "data": {
      "text/plain": [
       "False"
      ]
     },
     "execution_count": 6,
     "metadata": {},
     "output_type": "execute_result"
    }
   ],
   "source": [
    "# Python基础30：copy & deepcopy 浅复制 & 深复制\n",
    "# Created by Liam on 2018-11-15\n",
    "import copy\n",
    "# What is the id number?\n",
    "# 一个对象的 id 值在 CPython 解释器里就代表它在内存中的地址\n",
    "\n",
    "a = [1,2,3]\n",
    "print(id(a))\n",
    "b = a                  \n",
    "print(id(b))           # 使用 b = a 这类赋值语句，a 和 b 的 id 是一样的，也就是说，a 和 b 在硬盘中的存储位置相同\n",
    "b[1] = 33\n",
    "print(a)               # 由于 a 和 b 的 id 是一样的，改变 a 的值也会使得 b 的值发生改变\n",
    "# copy\n",
    "c = copy.copy(a)\n",
    "print(id(c))           # 使用 copy 语句，c 和 a 的 id 是不一样的，也就是说，c 和 b 在硬盘中的存储位置不再相同\n",
    "\n",
    "# 当使用浅拷贝时，python 只是拷贝了最外围的对象本身，内部的元素都只是拷贝了一个引用而已\n",
    "# deepcopy 对外围和内部元素都进行了拷贝对象本身，而不是对象的引用\n",
    "\n",
    "d = [1,2,[3,4]]\n",
    "e = copy.copy(d)\n",
    "id(e[2]) == id(d[2])\n",
    "f = copy.deepcopy(d)\n",
    "id(f[2]) == id(d[2])"
   ]
  },
  {
   "cell_type": "code",
   "execution_count": 7,
   "metadata": {},
   "outputs": [],
   "source": [
    "# Python基础31：什么是多线程 threading\n",
    "# Created by Liam on 2018-11-15\n",
    "# 多线程 Threading 是一种让程序拥有分身效果. 能同时处理多件事情. \n",
    "# 一般的程序只能从上到下一行行执行代码, 不过 多线程 (Threading) 就能打破这种限制. 让你的程序鲜活起来."
   ]
  },
  {
   "cell_type": "code",
   "execution_count": 8,
   "metadata": {},
   "outputs": [],
   "source": [
    "# Python基础32：什么是多进程 Multiprocessing\n",
    "# Created by Liam on 2018-11-15\n",
    "# 多线程 (Threading) 是有劣势的, GIL 让它没能更有效率的处理一些分摊的任务. \n",
    "# 现在的电脑大部分配备了多核处理器, 多进程 Multiprocessing 能让电脑更有效率的分配任务给每一个处理器 \n",
    "# 这种做法解决了多线程的弊端. 也能很好的提升效率."
   ]
  },
  {
   "cell_type": "code",
   "execution_count": 1,
   "metadata": {},
   "outputs": [],
   "source": [
    "# Python基础33：什么是Tkinter\n",
    "# Created by Liam on 2018-11-16\n",
    "# Tkinter 是使用 python 进行窗口视窗设计的模块. \n",
    "# 简单的构造, 多平台, 多系统的兼容性, 能让它成为让你快速入门定制窗口文件的好助手. \n",
    "# 它在 python 窗口视窗模块中是一款简单型的. 所以用来入门, 熟悉 窗口视窗的使用, 非常有必要."
   ]
  },
  {
   "cell_type": "code",
   "execution_count": 2,
   "metadata": {},
   "outputs": [
    {
     "name": "stdout",
     "output_type": "stream",
     "text": [
      "{'da': 111, 2: [23, 1, 4], '23': {1: 2, 'd': 'sad'}}\n"
     ]
    }
   ],
   "source": [
    "# Python基础34：pickle 模块\n",
    "# Created by Liam on 2018-11-16\n",
    "# pickle 是一个 python 中压缩/保存/提取 文件的模块\n",
    "# 34-01: pickle 保存\n",
    "# 最一般的使用方式非常简单. 比如下面就是压缩并保存一个字典的方式. 字典和列表都是能被保存的.\n",
    "\n",
    "import pickle\n",
    "a_dict = {'da': 111, 2: [23,1,4], '23': {1:2,'d':'sad'}}\n",
    "file = open('pickle_example.pickle', 'wb')\n",
    "pickle.dump(a_dict, file)\n",
    "file.close()\n",
    "# wb 是以写的形式打开 ‘pickle_example.pickle’ 这个文件, \n",
    "# 然后 pickle.dump 你要保存的东西去这个打开的 file. \n",
    "# 最后关闭 file 你就会发现你的文件目录里多了一个 ‘pickle_example.pickle’ 文件, 这就是那个字典了.\n",
    "\n",
    "# 34-02: pickle 提取\n",
    "with open('pickle_example.pickle', 'rb') as file:\n",
    "    a_dict1 =pickle.load(file)\n",
    "\n",
    "print(a_dict1)"
   ]
  },
  {
   "cell_type": "code",
   "execution_count": 10,
   "metadata": {},
   "outputs": [
    {
     "name": "stdout",
     "output_type": "stream",
     "text": [
      "{'b', 'a', 'c'}\n",
      "{',', 'M', '.', 'n', 'g', 'a', 't', ' ', 'H', 'e', 'm', 'y', 'l', 'U', 'r', 's', 'v', 'c', 'f', 'o', 'T', 'i', 'u', 'p', 'D', 'h'}\n",
      "{'b', 'a', 'c', 'x'}\n",
      "{'b', 'c', 'x'}\n",
      "{'b', 'c', 'x'}\n",
      "set()\n",
      "{'2', '3', '4'}\n",
      "{'1'}\n"
     ]
    }
   ],
   "source": [
    "# Python基础35：set 找不同\n",
    "# Created by Liam on 2018-11-16\n",
    "char_list = ['a', 'a', 'b', 'c', 'c', 'c']\n",
    "print(set(char_list))\n",
    "\n",
    "# 35-01：set 基本功能\n",
    "sentence = 'Here is the Depertment of Microelectionic, Tsinghua Univsity.'\n",
    "print(set(sentence))\n",
    "# Set 最主要的功能就是寻找一个句子或者一个 list 当中不同的元素.\n",
    "\n",
    "# 35-02：添加元素\n",
    "a = set(char_list)\n",
    "a.add('x')\n",
    "print(a)\n",
    "# 定义好一个 set 之后,可以使用 add 添加某个元素. 但是不是每一个东西都能添加, 比如一个列表.\n",
    "\n",
    "# 35-03：清除元素\n",
    "a.remove('a')\n",
    "print(a)\n",
    "a.discard('d')\n",
    "print(a)\n",
    "a.clear()\n",
    "print(a)\n",
    "# 清除一个元素可以用 remove 或者 discard, 而清除全部可以用 clear.\n",
    "# 若清除 set 中没有的元素，使用 remove 会报错，使用 discard 却不会报错\n",
    "\n",
    "# 35-04：筛选相同或不同的元素\n",
    "list1 = ['1','2','3','4']\n",
    "list2 = ['1', '11', '111', '1111']\n",
    "set1 = set(list1)\n",
    "set2 = set(list2)\n",
    "print(set1.difference(set2))\n",
    "print(set1.intersection(set2))\n",
    "# 使用 difference 可以筛选两个 set 里面的相同元素\n",
    "# 使用 intersection 可以筛选两个 set 里面的不同元素"
   ]
  },
  {
   "cell_type": "code",
   "execution_count": 5,
   "metadata": {},
   "outputs": [
    {
     "name": "stdout",
     "output_type": "stream",
     "text": [
      "True\n",
      "False\n",
      "<_sre.SRE_Match object; span=(12, 15), match='cat'>\n",
      "None\n",
      "<_sre.SRE_Match object; span=(4, 7), match='run'>\n",
      "None\n",
      "<_sre.SRE_Match object; span=(4, 7), match='run'>\n",
      "None\n",
      "<_sre.SRE_Match object; span=(4, 7), match='run'>\n"
     ]
    }
   ],
   "source": [
    "# Python基础36-01：正则表达式\n",
    "# Created by Liam on 2018-11-17\n",
    "\n",
    "# 正则表达式 (Regular Expression) 又称 RegEx, 是用来匹配字符的一种工具. \n",
    "# 在一大串字符中寻找你需要的内容. 它常被用在很多方面, 比如网页爬虫, 文稿整理, 数据筛选等等.\n",
    "import re\n",
    "\n",
    "# 简单的匹配\n",
    "# matching string\n",
    "pattern1 = \"cat\"\n",
    "pattern2 = \"bird\"\n",
    "string = \"dog runs to cat\"\n",
    "print(pattern1 in string)               # True\n",
    "print(pattern2 in string)               # False \n",
    "\n",
    "# 使用正则表达式\n",
    "print(re.search(pattern1, string))      # <_sre.SRE_Match object; span=(12, 15), match='cat'>\n",
    "print(re.search(pattern2, string))      # None\n",
    "\n",
    "# 使用正则表达式灵活匹配\n",
    "# multiple patterns (\"run\" or \"ran\")\n",
    "# 需要找到潜在的多个可能性文字，我们可以使用 [] 将可能的字符囊括进来\n",
    "# 值得注意的是，建立一个正则的规则, 我们在 pattern 的 “” 前面需要加上一个 r 用来表示这是正则表达式, 而不是普通字符串\n",
    "ptn = r\"r[au]n\"       \n",
    "print(re.search(ptn, string))            # <_sre.SRE_Match object; span=(4, 7), match='run'>\n",
    "#  [A-Z] 表示的就是所有大写的英文字母. [0-9a-z] 表示可以是数字也可以是任何小写字母\n",
    "print(re.search(r\"r[A-Z]n\", string))     # None\n",
    "print(re.search(r\"r[a-z]n\", string))     # <_sre.SRE_Match object; span=(4, 7), match='run'>\n",
    "print(re.search(r\"r[0-9]n\", string))     # None\n",
    "print(re.search(r\"r[0-9a-z]n\", string))  # <_sre.SRE_Match object; span=(4, 7), match='run'>"
   ]
  },
  {
   "cell_type": "code",
   "execution_count": 11,
   "metadata": {
    "collapsed": true
   },
   "outputs": [
    {
     "name": "stdout",
     "output_type": "stream",
     "text": [
      "<_sre.SRE_Match object; span=(4, 7), match='r4n'>\n",
      "<_sre.SRE_Match object; span=(0, 3), match='run'>\n",
      "<_sre.SRE_Match object; span=(0, 3), match='r\\nn'>\n",
      "<_sre.SRE_Match object; span=(4, 7), match='r4n'>\n",
      "<_sre.SRE_Match object; span=(4, 7), match='r4n'>\n",
      "<_sre.SRE_Match object; span=(0, 3), match='r\\nn'>\n",
      "<_sre.SRE_Match object; span=(4, 8), match='runs'>\n",
      "<_sre.SRE_Match object; span=(5, 11), match=' runs '>\n",
      "<_sre.SRE_Match object; span=(0, 5), match='runs\\\\'>\n",
      "<_sre.SRE_Match object; span=(0, 3), match='r[n'>\n",
      "<_sre.SRE_Match object; span=(0, 3), match='dog'>\n",
      "<_sre.SRE_Match object; span=(12, 15), match='cat'>\n",
      "<_sre.SRE_Match object; span=(0, 6), match='Monday'>\n",
      "<_sre.SRE_Match object; span=(0, 3), match='Mon'>\n"
     ]
    }
   ],
   "source": [
    "# Python基础36-02：正则表达式\n",
    "# Created by Liam on 2018-11-18\n",
    "# 按类型匹配\n",
    "# \\d : 任何数字\n",
    "# \\D : 不是数字\n",
    "# \\s : 任何 white space（空白符）, 如 [\\t\\n\\r\\f\\v]\n",
    "# \\S : 不是 white space\n",
    "# \\w : 任何大小写字母, 数字和 “” [a-zA-Z0-9]\n",
    "# \\W : 不是 \\w\n",
    "# \\b : 空白字符 (只在某个字的开头或结尾)\n",
    "# \\B : 空白字符 (不在某个字的开头或结尾)\n",
    "# \\\\ : 匹配 \\\n",
    "#  . : 匹配任何字符 (除了 \\n)\n",
    "#  ^ : 匹配开头\n",
    "#  $ : 匹配结尾\n",
    "#  ? : 前面的字符可有可无\n",
    "\n",
    "# \\d : decimal digit\n",
    "print(re.search(r\"r\\dn\", \"run r4n\"))           # <_sre.SRE_Match object; span=(4, 7), match='r4n'>\n",
    "# \\D : any non-decimal digit\n",
    "print(re.search(r\"r\\Dn\", \"run r4n\"))           # <_sre.SRE_Match object; span=(0, 3), match='run'>\n",
    "\n",
    "# \\s : any white space [\\t\\n\\r\\f\\v]\n",
    "print(re.search(r\"r\\sn\", \"r\\nn r4n\"))          # <_sre.SRE_Match object; span=(0, 3), match='r\\nn'>\n",
    "# \\S : opposite to \\s, any non-white space\n",
    "print(re.search(r\"r\\Sn\", \"r\\nn r4n\"))          # <_sre.SRE_Match object; span=(4, 7), match='r4n'>\n",
    "\n",
    "\n",
    "# \\w : [a-zA-Z0-9_]\n",
    "print(re.search(r\"r\\wn\", \"r\\nn r4n\"))          # <_sre.SRE_Match object; span=(4, 7), match='r4n'>\n",
    "# \\W : opposite to \\w\n",
    "print(re.search(r\"r\\Wn\", \"r\\nn r4n\"))          # <_sre.SRE_Match object; span=(0, 3), match='r\\nn'>\n",
    "\n",
    "# \\b : empty string (only at the start or end of the word)\n",
    "print(re.search(r\"\\bruns\\b\", \"dog runs to cat\"))    # <_sre.SRE_Match object; span=(4, 8), match='runs'>\n",
    "# \\B : empty string (but not at the start or end of a word)\n",
    "print(re.search(r\"\\B runs \\B\", \"dog   runs  to cat\"))  # <_sre.SRE_Match object; span=(8, 14), match=' runs '>\n",
    "\n",
    "# \\\\ : match \\\n",
    "print(re.search(r\"runs\\\\\", \"runs\\ to me\"))     # <_sre.SRE_Match object; span=(0, 5), match='runs\\\\'>\n",
    "# . : match anything (except \\n)\n",
    "print(re.search(r\"r.n\", \"r[ns to me\"))         # <_sre.SRE_Match object; span=(0, 3), match='r[n'>\n",
    "# ^ : match line beginning\n",
    "print(re.search(r\"^dog\", \"dog runs to cat\"))   # <_sre.SRE_Match object; span=(0, 3), match='dog'>\n",
    "# $ : match line ending\n",
    "print(re.search(r\"cat$\", \"dog runs to cat\"))   # <_sre.SRE_Match object; span=(12, 15), match='cat'>\n",
    "# ? : may or may not occur\n",
    "print(re.search(r\"Mon(day)?\", \"Monday\"))       # <_sre.SRE_Match object; span=(0, 6), match='Monday'>\n",
    "print(re.search(r\"Mon(day)?\", \"Mon\"))          # <_sre.SRE_Match object; span=(0, 3), match='Mon'>"
   ]
  },
  {
   "cell_type": "code",
   "execution_count": 13,
   "metadata": {},
   "outputs": [
    {
     "name": "stdout",
     "output_type": "stream",
     "text": [
      "None\n",
      "<_sre.SRE_Match object; span=(18, 19), match='I'>\n"
     ]
    }
   ],
   "source": [
    "# Python基础36-03：正则表达式\n",
    "# Created by Liam on 2018-11-18\n",
    "# 多行匹配\n",
    "string = \"\"\"\n",
    "dog runs to cat.\n",
    "I run to dog.\n",
    "\"\"\"\n",
    "print(re.search(r\"^I\", string))                 # None\n",
    "print(re.search(r\"^I\", string, flags=re.M))     # <_sre.SRE_Match object; span=(18, 19), match='I'>"
   ]
  },
  {
   "cell_type": "code",
   "execution_count": 14,
   "metadata": {},
   "outputs": [
    {
     "name": "stdout",
     "output_type": "stream",
     "text": [
      "<_sre.SRE_Match object; span=(0, 1), match='a'>\n",
      "<_sre.SRE_Match object; span=(0, 6), match='abbbbb'>\n",
      "None\n",
      "<_sre.SRE_Match object; span=(0, 6), match='abbbbb'>\n",
      "None\n",
      "<_sre.SRE_Match object; span=(0, 6), match='abbbbb'>\n"
     ]
    }
   ],
   "source": [
    "# Python基础36-04：正则表达式\n",
    "# Created by Liam on 2018-11-18\n",
    "# 重复匹配\n",
    "# * : 重复零次或多次\n",
    "# + : 重复一次或多次\n",
    "# {n, m} : 重复 n 至 m 次\n",
    "# {n} : 重复 n 次\n",
    "\n",
    "# * : occur 0 or more times\n",
    "print(re.search(r\"ab*\", \"a\"))             # <_sre.SRE_Match object; span=(0, 1), match='a'>\n",
    "print(re.search(r\"ab*\", \"abbbbb\"))        # <_sre.SRE_Match object; span=(0, 6), match='abbbbb'>\n",
    "\n",
    "# + : occur 1 or more times\n",
    "print(re.search(r\"ab+\", \"a\"))             # None\n",
    "print(re.search(r\"ab+\", \"abbbbb\"))        # <_sre.SRE_Match object; span=(0, 6), match='abbbbb'>\n",
    "\n",
    "# {n, m} : occur n to m times\n",
    "print(re.search(r\"ab{2,10}\", \"a\"))        # None\n",
    "print(re.search(r\"ab{2,10}\", \"abbbbb\"))   # <_sre.SRE_Match object; span=(0, 6), match='abbbbb'>"
   ]
  },
  {
   "cell_type": "code",
   "execution_count": 21,
   "metadata": {},
   "outputs": [
    {
     "name": "stdout",
     "output_type": "stream",
     "text": [
      "021523, Date: Feb/12/2017\n",
      "021523\n",
      "Feb/12/2017\n",
      "021523\n",
      "Feb/12/2017\n"
     ]
    }
   ],
   "source": [
    "# Python基础36-05：正则表达式\n",
    "# Created by Liam on 2018-11-18\n",
    "# 分组\n",
    "match = re.search(r\"(\\d+), Date: (.+)\", \"ID: 021523, Date: Feb/12/2017\")\n",
    "print(match.group())                   # 021523, Date: Feb/12/2017\n",
    "print(match.group(1))                  # 021523\n",
    "print(match.group(2))                  # Date: Feb/12/2017\n",
    "\n",
    "match = re.search(r\"(?P<id>\\d+), Date: (?P<date>.+)\", \"ID: 021523, Date: Feb/12/2017\") # ？<name>\n",
    "print(match.group('id'))                # 021523\n",
    "print(match.group('date'))              # Date: Feb/12/2017"
   ]
  },
  {
   "cell_type": "code",
   "execution_count": 23,
   "metadata": {},
   "outputs": [
    {
     "name": "stdout",
     "output_type": "stream",
     "text": [
      "['run', 'ran']\n",
      "['run', 'ran']\n",
      "dog catches to cat\n",
      "['a', 'b', 'c', 'd', 'e']\n",
      "<_sre.SRE_Match object; span=(4, 7), match='ran'>\n"
     ]
    }
   ],
   "source": [
    "# Python基础36-06：正则表达式\n",
    "# Created by Liam on 2018-11-18\n",
    "# findall\n",
    "print(re.findall(r\"r[ua]n\", \"run ran ren\"))    # ['run', 'ran']\n",
    "\n",
    "# | : or\n",
    "print(re.findall(r\"(run|ran)\", \"run ran ren\")) # ['run', 'ran']\n",
    "\n",
    "# Replace 替换\n",
    "print(re.sub(r\"r[au]ns\", \"catches\", \"dog runs to cat\"))     # dog catches to cat\n",
    "\n",
    "# Split 分割\n",
    "print(re.split(r\"[,;\\.]\", \"a;b,c.d;e\"))        # ['a', 'b', 'c', 'd', 'e']\n",
    "\n",
    "# compile 编译\n",
    "# 使用 compile 过后的正则来对这个正则重复使用\n",
    "compiled_re = re.compile(r\"r[ua]n\")\n",
    "print(compiled_re.search(\"dog ran to cat\"))    # <_sre.SRE_Match object; span=(4, 7), match='ran'>"
   ]
  }
 ],
 "metadata": {
  "kernelspec": {
   "display_name": "Python 3",
   "language": "python",
   "name": "python3"
  },
  "language_info": {
   "codemirror_mode": {
    "name": "ipython",
    "version": 3
   },
   "file_extension": ".py",
   "mimetype": "text/x-python",
   "name": "python",
   "nbconvert_exporter": "python",
   "pygments_lexer": "ipython3",
   "version": "3.6.6"
  }
 },
 "nbformat": 4,
 "nbformat_minor": 2
}
